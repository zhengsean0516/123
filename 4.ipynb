{
 "cells": [
  {
   "cell_type": "code",
   "execution_count": 2,
   "metadata": {},
   "outputs": [],
   "source": [
    "import pandas as pd\n",
    "import numpy as np\n",
    "data = \"311_Service_Requests_2020.csv\"\n",
    "df = pd.read_csv(data)"
   ]
  }
 ],
 "metadata": {
  "interpreter": {
   "hash": "08ee4cb17783745741de2b8c47377423e1f4a3af7a5f385a932bec1a8861f42b"
  },
  "kernelspec": {
   "display_name": "Python 3.8.12 64-bit ('dataanalytics': conda)",
   "language": "python",
   "name": "python3"
  },
  "language_info": {
   "codemirror_mode": {
    "name": "ipython",
    "version": 3
   },
   "file_extension": ".py",
   "mimetype": "text/x-python",
   "name": "python",
   "nbconvert_exporter": "python",
   "pygments_lexer": "ipython3",
   "version": "3.8.12"
  },
  "orig_nbformat": 4
 },
 "nbformat": 4,
 "nbformat_minor": 2
}
